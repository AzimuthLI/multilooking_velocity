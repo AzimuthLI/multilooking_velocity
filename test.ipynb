{
  "cells": [],
  "metadata": {
    "language_info": {
      "codemirror_mode": {
        "name": "ipython",
        "version": 2
      },
      "file_extension": ".py",
      "mimetype": "text/x-python",
      "name": "python",
      "nbconvert_exporter": "python",
      "pygments_lexer": "ipython2",
      "version": "2.7.6"
    },
    "kernelspec": {
      "name": "python3",
      "language": "python",
      "display_name": "Python 3"
    },
    "stem_cell": {
      "cell_type": "raw",
      "source": "from rat_helper import read_rat\n\n\n\nratfile \u003d DATA_FOLDER + \u0027/s0amp_2016-01-13.rat\u0027\nratdata \u003d read_rat(ratfile)\nprint(ratdata[0, 281])\n\n",
      "metadata": {
        "pycharm": {
          "metadata": false
        }
      }
    }
  },
  "nbformat": 4,
  "nbformat_minor": 0
}